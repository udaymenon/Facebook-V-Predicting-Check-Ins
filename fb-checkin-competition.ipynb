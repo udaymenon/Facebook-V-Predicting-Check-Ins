{
 "cells": [
  {
   "cell_type": "code",
   "execution_count": 1,
   "metadata": {
    "collapsed": false
   },
   "outputs": [
    {
     "name": "stderr",
     "output_type": "stream",
     "text": [
      "/home/uday/anaconda2/envs/dato-env/lib/python2.7/site-packages/matplotlib/font_manager.py:273: UserWarning: Matplotlib is building the font cache using fc-list. This may take a moment.\n",
      "  warnings.warn('Matplotlib is building the font cache using fc-list. This may take a moment.')\n"
     ]
    }
   ],
   "source": [
    "\n",
    "import numpy as np # linear algebra\n",
    "import pandas as pd # data processing, CSV file I/O (e.g. pd.read_csv)\n",
    "\n",
    "# Input data files are available in the \"../input/\" directory.\n",
    "# For example, running this (by clicking run or pressing Shift+Enter) will list the files in the input directory\n",
    "\n",
    "import matplotlib.pyplot as plt\n",
    "\n",
    "df_train = pd.read_csv('train.csv')\n",
    "\n",
    "# df_test = pd.read_csv('test.csv')\n"
   ]
  },
  {
   "cell_type": "code",
   "execution_count": 4,
   "metadata": {
    "collapsed": false
   },
   "outputs": [
    {
     "data": {
      "text/plain": [
       "8772469670    1849\n",
       "1623394281    1802\n",
       "1308450003    1757\n",
       "4823777529    1738\n",
       "9586338177    1718\n",
       "9129780742    1716\n",
       "9544215131    1702\n",
       "5351837004    1699\n",
       "4638096372    1699\n",
       "8610202964    1693\n",
       "6051554924    1689\n",
       "7363774279    1689\n",
       "8607353836    1686\n",
       "8336299754    1683\n",
       "5204012807    1680\n",
       "7230349735    1676\n",
       "7985287621    1673\n",
       "4371034975    1673\n",
       "4993591840    1672\n",
       "7348940462    1670\n",
       "7698408658    1669\n",
       "5971252160    1668\n",
       "1500208175    1667\n",
       "8842957841    1661\n",
       "9919909729    1660\n",
       "9903336130    1659\n",
       "6909189260    1658\n",
       "1628743555    1648\n",
       "4113278218    1644\n",
       "3659348746    1631\n",
       "              ... \n",
       "5723178213       1\n",
       "8770284658       1\n",
       "9684688654       1\n",
       "1008054483       1\n",
       "2150524266       1\n",
       "5293934773       1\n",
       "1705380213       1\n",
       "9663369977       1\n",
       "3266541302       1\n",
       "5081250759       1\n",
       "1474802253       1\n",
       "6494133525       1\n",
       "8945287729       1\n",
       "8806200160       1\n",
       "3285347166       1\n",
       "7226358437       1\n",
       "1232113414       1\n",
       "5714851113       1\n",
       "4121531422       1\n",
       "9200831582       1\n",
       "4952760562       1\n",
       "7395434650       1\n",
       "1676184117       1\n",
       "7221587826       1\n",
       "1140330554       1\n",
       "7829906023       1\n",
       "1396615631       1\n",
       "6155645899       1\n",
       "1613164392       1\n",
       "1092000632       1\n",
       "Name: place_id, dtype: int64"
      ]
     },
     "execution_count": 4,
     "metadata": {},
     "output_type": "execute_result"
    }
   ],
   "source": [
    "place_id = df_train['place_id']\n",
    "place_id.value_counts()  #8772469670    1849;1623394281    1802;1308450003    1757\n",
    "# n, bins, patches = plt.hist(place_id, 78, normed=True, facecolor='green', alpha=0.75)\n",
    "# plt.show()"
   ]
  },
  {
   "cell_type": "code",
   "execution_count": 5,
   "metadata": {
    "collapsed": false
   },
   "outputs": [],
   "source": [
    "df_train_pop = df_train[df_train['place_id'] == 8772469670]\n",
    "time_pop = df_train_pop['time']\n",
    "df_train_pop2 = df_train[df_train['place_id'] == 1623394281]\n",
    "time_pop2 = df_train_pop2['time']\n",
    "df_train_pop3 = df_train[df_train['place_id'] == 4113278218]\n",
    "time_pop3 = df_train_pop3['time']\n",
    "df_train_pop4 = df_train[df_train['place_id'] == 3659348746]\n",
    "time_pop4 = df_train_pop4['time']\n",
    "\n",
    "    "
   ]
  },
  {
   "cell_type": "code",
   "execution_count": 15,
   "metadata": {
    "collapsed": true
   },
   "outputs": [],
   "source": [
    "#!/usr/bin/env python\n",
    "#Example of matplotlib.pyplot.hist\n",
    "import matplotlib.mlab as mlab\n",
    "\n",
    "mu, sigma = 100, 15\n",
    "x = mu + sigma*np.random.randn(10000)\n",
    "\n",
    "# the histogram of the data\n",
    "n, bins, patches = plt.hist(x, 50, normed=1, facecolor='green', alpha=0.75)\n",
    "\n",
    "# add a 'best fit' line\n",
    "y = mlab.normpdf( bins, mu, sigma)\n",
    "l = plt.plot(bins, y, 'r--', linewidth=1)\n",
    "\n",
    "plt.xlabel('Smarts')\n",
    "plt.ylabel('Probability')\n",
    "plt.title(r'$\\mathrm{Histogram\\ of\\ IQ:}\\ \\mu=100,\\ \\sigma=15$')\n",
    "plt.axis([40, 160, 0, 0.03])\n",
    "plt.grid(True)\n",
    "\n",
    "plt.show()"
   ]
  },
  {
   "cell_type": "code",
   "execution_count": 6,
   "metadata": {
    "collapsed": false
   },
   "outputs": [],
   "source": [
    "n, bins, patches = plt.hist(time, normed=True, facecolor='green', alpha=0.75)\n",
    "plt.show()\n",
    "# time_pop.hist()"
   ]
  },
  {
   "cell_type": "code",
   "execution_count": 7,
   "metadata": {
    "collapsed": false
   },
   "outputs": [],
   "source": [
    "#Note: was getting KeyError: 0L when running code below with time_pop as arg. Had to pass in time_pop.values explicitly \n",
    "#to get around it. Something about  API incompatibility with matplotlib and pandas >= 0.13.\n",
    "#Not sure why the same call worked for time above\n",
    "# n, bins, patches = plt.hist(time_pop3.values,  facecolor='green', alpha=0.75) #500,000 was the highest\n",
    "# plt.show()\n",
    "n, bins, patches = plt.hist([time_pop.values,time_pop2.values,time_pop3.values,time_pop4.values], alpha=0.75) \n",
    "plt.show()\n",
    "#each place_id has a distinct pattern of variability along the time axis"
   ]
  },
  {
   "cell_type": "code",
   "execution_count": 8,
   "metadata": {
    "collapsed": false
   },
   "outputs": [
    {
     "data": {
      "text/html": [
       "<div>\n",
       "<table border=\"1\" class=\"dataframe\">\n",
       "  <thead>\n",
       "    <tr style=\"text-align: right;\">\n",
       "      <th></th>\n",
       "      <th>row_id</th>\n",
       "      <th>x</th>\n",
       "      <th>y</th>\n",
       "      <th>accuracy</th>\n",
       "      <th>time</th>\n",
       "      <th>place_id</th>\n",
       "    </tr>\n",
       "  </thead>\n",
       "  <tbody>\n",
       "    <tr>\n",
       "      <th>count</th>\n",
       "      <td>2.911802e+07</td>\n",
       "      <td>2.911802e+07</td>\n",
       "      <td>2.911802e+07</td>\n",
       "      <td>2.911802e+07</td>\n",
       "      <td>2.911802e+07</td>\n",
       "      <td>2.911802e+07</td>\n",
       "    </tr>\n",
       "    <tr>\n",
       "      <th>mean</th>\n",
       "      <td>1.455901e+07</td>\n",
       "      <td>4.999770e+00</td>\n",
       "      <td>5.001814e+00</td>\n",
       "      <td>8.284912e+01</td>\n",
       "      <td>4.170104e+05</td>\n",
       "      <td>5.493787e+09</td>\n",
       "    </tr>\n",
       "    <tr>\n",
       "      <th>std</th>\n",
       "      <td>8.405649e+06</td>\n",
       "      <td>2.857601e+00</td>\n",
       "      <td>2.887505e+00</td>\n",
       "      <td>1.147518e+02</td>\n",
       "      <td>2.311761e+05</td>\n",
       "      <td>2.611088e+09</td>\n",
       "    </tr>\n",
       "    <tr>\n",
       "      <th>min</th>\n",
       "      <td>0.000000e+00</td>\n",
       "      <td>0.000000e+00</td>\n",
       "      <td>0.000000e+00</td>\n",
       "      <td>1.000000e+00</td>\n",
       "      <td>1.000000e+00</td>\n",
       "      <td>1.000016e+09</td>\n",
       "    </tr>\n",
       "    <tr>\n",
       "      <th>25%</th>\n",
       "      <td>7.279505e+06</td>\n",
       "      <td>2.534700e+00</td>\n",
       "      <td>2.496700e+00</td>\n",
       "      <td>2.700000e+01</td>\n",
       "      <td>2.030570e+05</td>\n",
       "      <td>3.222911e+09</td>\n",
       "    </tr>\n",
       "    <tr>\n",
       "      <th>50%</th>\n",
       "      <td>1.455901e+07</td>\n",
       "      <td>5.009100e+00</td>\n",
       "      <td>4.988300e+00</td>\n",
       "      <td>6.200000e+01</td>\n",
       "      <td>4.339220e+05</td>\n",
       "      <td>5.518573e+09</td>\n",
       "    </tr>\n",
       "    <tr>\n",
       "      <th>75%</th>\n",
       "      <td>2.183852e+07</td>\n",
       "      <td>7.461400e+00</td>\n",
       "      <td>7.510300e+00</td>\n",
       "      <td>7.500000e+01</td>\n",
       "      <td>6.204910e+05</td>\n",
       "      <td>7.764307e+09</td>\n",
       "    </tr>\n",
       "    <tr>\n",
       "      <th>max</th>\n",
       "      <td>2.911802e+07</td>\n",
       "      <td>1.000000e+01</td>\n",
       "      <td>1.000000e+01</td>\n",
       "      <td>1.033000e+03</td>\n",
       "      <td>7.862390e+05</td>\n",
       "      <td>9.999932e+09</td>\n",
       "    </tr>\n",
       "  </tbody>\n",
       "</table>\n",
       "</div>"
      ],
      "text/plain": [
       "             row_id             x             y      accuracy          time  \\\n",
       "count  2.911802e+07  2.911802e+07  2.911802e+07  2.911802e+07  2.911802e+07   \n",
       "mean   1.455901e+07  4.999770e+00  5.001814e+00  8.284912e+01  4.170104e+05   \n",
       "std    8.405649e+06  2.857601e+00  2.887505e+00  1.147518e+02  2.311761e+05   \n",
       "min    0.000000e+00  0.000000e+00  0.000000e+00  1.000000e+00  1.000000e+00   \n",
       "25%    7.279505e+06  2.534700e+00  2.496700e+00  2.700000e+01  2.030570e+05   \n",
       "50%    1.455901e+07  5.009100e+00  4.988300e+00  6.200000e+01  4.339220e+05   \n",
       "75%    2.183852e+07  7.461400e+00  7.510300e+00  7.500000e+01  6.204910e+05   \n",
       "max    2.911802e+07  1.000000e+01  1.000000e+01  1.033000e+03  7.862390e+05   \n",
       "\n",
       "           place_id  \n",
       "count  2.911802e+07  \n",
       "mean   5.493787e+09  \n",
       "std    2.611088e+09  \n",
       "min    1.000016e+09  \n",
       "25%    3.222911e+09  \n",
       "50%    5.518573e+09  \n",
       "75%    7.764307e+09  \n",
       "max    9.999932e+09  "
      ]
     },
     "execution_count": 8,
     "metadata": {},
     "output_type": "execute_result"
    }
   ],
   "source": [
    "df_train.describe()"
   ]
  },
  {
   "cell_type": "code",
   "execution_count": 9,
   "metadata": {
    "collapsed": true
   },
   "outputs": [],
   "source": [
    "#let's next examine if there is geographic locality associated with each place_id\n",
    "#use manhattan block size 80m x275m to get 125 blocks x 36 blocks in 10KM-squared space\n",
    "#write function to map (x,y) coordinates to block coordinates\n",
    "import math\n",
    "def blockx(x):\n",
    "    #convert x into a block distance \n",
    "    return int(math.floor(x*1000/80))\n",
    "def blocky(y):\n",
    "    #convert y into a block distance \n",
    "    return int(math.floor(y*1000/275))\n",
    "    "
   ]
  },
  {
   "cell_type": "code",
   "execution_count": 10,
   "metadata": {
    "collapsed": false
   },
   "outputs": [],
   "source": [
    "df_train['blockx'] = map(blockx,df_train['x'])\n",
    "df_train['blocky'] = map(blocky,df_train['y'])\n"
   ]
  },
  {
   "cell_type": "code",
   "execution_count": 11,
   "metadata": {
    "collapsed": false
   },
   "outputs": [
    {
     "data": {
      "text/plain": [
       "0      9\n",
       "1     74\n",
       "2    103\n",
       "3     92\n",
       "4     51\n",
       "Name: blockx, dtype: int64"
      ]
     },
     "execution_count": 11,
     "metadata": {},
     "output_type": "execute_result"
    }
   ],
   "source": [
    "df_train['blockx'].head()"
   ]
  },
  {
   "cell_type": "code",
   "execution_count": 12,
   "metadata": {
    "collapsed": false
   },
   "outputs": [
    {
     "data": {
      "text/plain": [
       "125"
      ]
     },
     "execution_count": 12,
     "metadata": {},
     "output_type": "execute_result"
    }
   ],
   "source": [
    "blockx(10)"
   ]
  },
  {
   "cell_type": "code",
   "execution_count": 69,
   "metadata": {
    "collapsed": false
   },
   "outputs": [
    {
     "data": {
      "text/plain": [
       "36"
      ]
     },
     "execution_count": 69,
     "metadata": {},
     "output_type": "execute_result"
    }
   ],
   "source": [
    "blocky(10)"
   ]
  },
  {
   "cell_type": "code",
   "execution_count": 13,
   "metadata": {
    "collapsed": false
   },
   "outputs": [],
   "source": [
    "df_train00 = df_train[(df_train['blockx'] == 0) & (df_train['blocky'] == 0)]"
   ]
  },
  {
   "cell_type": "code",
   "execution_count": 14,
   "metadata": {
    "collapsed": false
   },
   "outputs": [
    {
     "data": {
      "text/html": [
       "<div>\n",
       "<table border=\"1\" class=\"dataframe\">\n",
       "  <thead>\n",
       "    <tr style=\"text-align: right;\">\n",
       "      <th></th>\n",
       "      <th>row_id</th>\n",
       "      <th>x</th>\n",
       "      <th>y</th>\n",
       "      <th>accuracy</th>\n",
       "      <th>time</th>\n",
       "      <th>place_id</th>\n",
       "      <th>blockx</th>\n",
       "      <th>blocky</th>\n",
       "    </tr>\n",
       "  </thead>\n",
       "  <tbody>\n",
       "    <tr>\n",
       "      <th>count</th>\n",
       "      <td>4.422000e+03</td>\n",
       "      <td>4422.000000</td>\n",
       "      <td>4422.000000</td>\n",
       "      <td>4422.000000</td>\n",
       "      <td>4422.000000</td>\n",
       "      <td>4.422000e+03</td>\n",
       "      <td>4422.0</td>\n",
       "      <td>4422.0</td>\n",
       "    </tr>\n",
       "    <tr>\n",
       "      <th>mean</th>\n",
       "      <td>1.485416e+07</td>\n",
       "      <td>0.040976</td>\n",
       "      <td>0.155830</td>\n",
       "      <td>87.725690</td>\n",
       "      <td>416688.963591</td>\n",
       "      <td>5.866703e+09</td>\n",
       "      <td>0.0</td>\n",
       "      <td>0.0</td>\n",
       "    </tr>\n",
       "    <tr>\n",
       "      <th>std</th>\n",
       "      <td>8.362960e+06</td>\n",
       "      <td>0.021630</td>\n",
       "      <td>0.074700</td>\n",
       "      <td>118.793957</td>\n",
       "      <td>233816.088801</td>\n",
       "      <td>2.232172e+09</td>\n",
       "      <td>0.0</td>\n",
       "      <td>0.0</td>\n",
       "    </tr>\n",
       "    <tr>\n",
       "      <th>min</th>\n",
       "      <td>1.490000e+02</td>\n",
       "      <td>0.000000</td>\n",
       "      <td>0.000100</td>\n",
       "      <td>1.000000</td>\n",
       "      <td>45.000000</td>\n",
       "      <td>1.003836e+09</td>\n",
       "      <td>0.0</td>\n",
       "      <td>0.0</td>\n",
       "    </tr>\n",
       "    <tr>\n",
       "      <th>25%</th>\n",
       "      <td>7.580357e+06</td>\n",
       "      <td>0.023300</td>\n",
       "      <td>0.104100</td>\n",
       "      <td>26.000000</td>\n",
       "      <td>186273.250000</td>\n",
       "      <td>4.336424e+09</td>\n",
       "      <td>0.0</td>\n",
       "      <td>0.0</td>\n",
       "    </tr>\n",
       "    <tr>\n",
       "      <th>50%</th>\n",
       "      <td>1.515110e+07</td>\n",
       "      <td>0.040300</td>\n",
       "      <td>0.150950</td>\n",
       "      <td>63.000000</td>\n",
       "      <td>452430.000000</td>\n",
       "      <td>5.445221e+09</td>\n",
       "      <td>0.0</td>\n",
       "      <td>0.0</td>\n",
       "    </tr>\n",
       "    <tr>\n",
       "      <th>75%</th>\n",
       "      <td>2.194103e+07</td>\n",
       "      <td>0.059200</td>\n",
       "      <td>0.219275</td>\n",
       "      <td>81.000000</td>\n",
       "      <td>607890.750000</td>\n",
       "      <td>8.050783e+09</td>\n",
       "      <td>0.0</td>\n",
       "      <td>0.0</td>\n",
       "    </tr>\n",
       "    <tr>\n",
       "      <th>max</th>\n",
       "      <td>2.911510e+07</td>\n",
       "      <td>0.079900</td>\n",
       "      <td>0.274900</td>\n",
       "      <td>988.000000</td>\n",
       "      <td>786101.000000</td>\n",
       "      <td>9.932536e+09</td>\n",
       "      <td>0.0</td>\n",
       "      <td>0.0</td>\n",
       "    </tr>\n",
       "  </tbody>\n",
       "</table>\n",
       "</div>"
      ],
      "text/plain": [
       "             row_id            x            y     accuracy           time  \\\n",
       "count  4.422000e+03  4422.000000  4422.000000  4422.000000    4422.000000   \n",
       "mean   1.485416e+07     0.040976     0.155830    87.725690  416688.963591   \n",
       "std    8.362960e+06     0.021630     0.074700   118.793957  233816.088801   \n",
       "min    1.490000e+02     0.000000     0.000100     1.000000      45.000000   \n",
       "25%    7.580357e+06     0.023300     0.104100    26.000000  186273.250000   \n",
       "50%    1.515110e+07     0.040300     0.150950    63.000000  452430.000000   \n",
       "75%    2.194103e+07     0.059200     0.219275    81.000000  607890.750000   \n",
       "max    2.911510e+07     0.079900     0.274900   988.000000  786101.000000   \n",
       "\n",
       "           place_id  blockx  blocky  \n",
       "count  4.422000e+03  4422.0  4422.0  \n",
       "mean   5.866703e+09     0.0     0.0  \n",
       "std    2.232172e+09     0.0     0.0  \n",
       "min    1.003836e+09     0.0     0.0  \n",
       "25%    4.336424e+09     0.0     0.0  \n",
       "50%    5.445221e+09     0.0     0.0  \n",
       "75%    8.050783e+09     0.0     0.0  \n",
       "max    9.932536e+09     0.0     0.0  "
      ]
     },
     "execution_count": 14,
     "metadata": {},
     "output_type": "execute_result"
    }
   ],
   "source": [
    "df_train00.describe()"
   ]
  },
  {
   "cell_type": "code",
   "execution_count": 15,
   "metadata": {
    "collapsed": true
   },
   "outputs": [],
   "source": [
    "time_00 = df_train00['time']\n",
    "n, bins, patches = plt.hist([time_00.values], alpha=0.75) \n",
    "plt.show()"
   ]
  },
  {
   "cell_type": "code",
   "execution_count": 16,
   "metadata": {
    "collapsed": false
   },
   "outputs": [
    {
     "data": {
      "text/plain": [
       "5445221293    766\n",
       "8050782732    546\n",
       "8555966805    341\n",
       "4336423518    271\n",
       "2477372399    118\n",
       "4251632872    104\n",
       "7382144836     98\n",
       "1006316884     95\n",
       "8190826815     86\n",
       "2856338949     86\n",
       "5357692951     85\n",
       "7014475222     84\n",
       "3243336074     72\n",
       "7065354365     71\n",
       "8173555001     69\n",
       "2154052852     62\n",
       "8815983898     60\n",
       "8378301865     57\n",
       "3731899031     56\n",
       "5349374802     51\n",
       "7942904509     46\n",
       "8944067726     43\n",
       "3271917785     38\n",
       "5002696932     32\n",
       "4422663263     30\n",
       "5938943847     28\n",
       "5957043142     28\n",
       "3547886077     25\n",
       "5765520742     23\n",
       "8241449659     21\n",
       "             ... \n",
       "3664442439      1\n",
       "2198399075      1\n",
       "4771174593      1\n",
       "6803385643      1\n",
       "4942361500      1\n",
       "3214974249      1\n",
       "1975389431      1\n",
       "7556775153      1\n",
       "3077551320      1\n",
       "1339489481      1\n",
       "6126650538      1\n",
       "5998075037      1\n",
       "7557029004      1\n",
       "6660617304      1\n",
       "7864951882      1\n",
       "6472354795      1\n",
       "5527864210      1\n",
       "9447657668      1\n",
       "1292505932      1\n",
       "1317237364      1\n",
       "5387180565      1\n",
       "3840693543      1\n",
       "4587422126      1\n",
       "4982026592      1\n",
       "5169547607      1\n",
       "2776568148      1\n",
       "4052025666      1\n",
       "7767533847      1\n",
       "8518715611      1\n",
       "7517407233      1\n",
       "Name: place_id, dtype: int64"
      ]
     },
     "execution_count": 16,
     "metadata": {},
     "output_type": "execute_result"
    }
   ],
   "source": [
    "place_id00 = df_train00['place_id']\n",
    "place_id00.value_counts() "
   ]
  },
  {
   "cell_type": "markdown",
   "metadata": {},
   "source": [
    "### the top 30 place_ids account for 3492 rows out of 4422 which is 80% of the data. We therefore prune df_train00 to just these rows"
   ]
  },
  {
   "cell_type": "code",
   "execution_count": 18,
   "metadata": {
    "collapsed": false
   },
   "outputs": [],
   "source": [
    "df_train00_top30 = df_train00[df_train00['place_id'].isin([5445221293,\n",
    "8050782732,\n",
    "8555966805,\n",
    "4336423518,\n",
    "2477372399,\n",
    "4251632872,\n",
    "7382144836,\n",
    "1006316884,\n",
    "8190826815,\n",
    "2856338949,\n",
    "5357692951,\n",
    "7014475222,\n",
    "3243336074,\n",
    "7065354365,\n",
    "8173555001,\n",
    "2154052852,\n",
    "8815983898,\n",
    "8378301865,\n",
    "3731899031,\n",
    "5349374802,\n",
    "7942904509,\n",
    "8944067726,\n",
    "3271917785,\n",
    "5002696932,\n",
    "4422663263,\n",
    "5938943847,\n",
    "5957043142,\n",
    "3547886077,\n",
    "5765520742,\n",
    "8241449659])]"
   ]
  },
  {
   "cell_type": "code",
   "execution_count": 19,
   "metadata": {
    "collapsed": false
   },
   "outputs": [
    {
     "data": {
      "text/html": [
       "<div>\n",
       "<table border=\"1\" class=\"dataframe\">\n",
       "  <thead>\n",
       "    <tr style=\"text-align: right;\">\n",
       "      <th></th>\n",
       "      <th>row_id</th>\n",
       "      <th>x</th>\n",
       "      <th>y</th>\n",
       "      <th>accuracy</th>\n",
       "      <th>time</th>\n",
       "      <th>place_id</th>\n",
       "      <th>blockx</th>\n",
       "      <th>blocky</th>\n",
       "    </tr>\n",
       "  </thead>\n",
       "  <tbody>\n",
       "    <tr>\n",
       "      <th>count</th>\n",
       "      <td>3.492000e+03</td>\n",
       "      <td>3492.000000</td>\n",
       "      <td>3492.000000</td>\n",
       "      <td>3492.000000</td>\n",
       "      <td>3492.000000</td>\n",
       "      <td>3.492000e+03</td>\n",
       "      <td>3492.0</td>\n",
       "      <td>3492.0</td>\n",
       "    </tr>\n",
       "    <tr>\n",
       "      <th>mean</th>\n",
       "      <td>1.483209e+07</td>\n",
       "      <td>0.039768</td>\n",
       "      <td>0.158347</td>\n",
       "      <td>86.089633</td>\n",
       "      <td>407572.727377</td>\n",
       "      <td>6.020416e+09</td>\n",
       "      <td>0.0</td>\n",
       "      <td>0.0</td>\n",
       "    </tr>\n",
       "    <tr>\n",
       "      <th>std</th>\n",
       "      <td>8.367223e+06</td>\n",
       "      <td>0.021214</td>\n",
       "      <td>0.071923</td>\n",
       "      <td>104.116552</td>\n",
       "      <td>236103.683380</td>\n",
       "      <td>2.100485e+09</td>\n",
       "      <td>0.0</td>\n",
       "      <td>0.0</td>\n",
       "    </tr>\n",
       "    <tr>\n",
       "      <th>min</th>\n",
       "      <td>1.490000e+02</td>\n",
       "      <td>0.000000</td>\n",
       "      <td>0.000100</td>\n",
       "      <td>1.000000</td>\n",
       "      <td>410.000000</td>\n",
       "      <td>1.006317e+09</td>\n",
       "      <td>0.0</td>\n",
       "      <td>0.0</td>\n",
       "    </tr>\n",
       "    <tr>\n",
       "      <th>25%</th>\n",
       "      <td>7.535368e+06</td>\n",
       "      <td>0.022475</td>\n",
       "      <td>0.106200</td>\n",
       "      <td>31.000000</td>\n",
       "      <td>168889.250000</td>\n",
       "      <td>4.336424e+09</td>\n",
       "      <td>0.0</td>\n",
       "      <td>0.0</td>\n",
       "    </tr>\n",
       "    <tr>\n",
       "      <th>50%</th>\n",
       "      <td>1.515110e+07</td>\n",
       "      <td>0.038450</td>\n",
       "      <td>0.153600</td>\n",
       "      <td>64.000000</td>\n",
       "      <td>441495.000000</td>\n",
       "      <td>5.445221e+09</td>\n",
       "      <td>0.0</td>\n",
       "      <td>0.0</td>\n",
       "    </tr>\n",
       "    <tr>\n",
       "      <th>75%</th>\n",
       "      <td>2.192826e+07</td>\n",
       "      <td>0.057600</td>\n",
       "      <td>0.218600</td>\n",
       "      <td>83.000000</td>\n",
       "      <td>598082.500000</td>\n",
       "      <td>8.050783e+09</td>\n",
       "      <td>0.0</td>\n",
       "      <td>0.0</td>\n",
       "    </tr>\n",
       "    <tr>\n",
       "      <th>max</th>\n",
       "      <td>2.911510e+07</td>\n",
       "      <td>0.079900</td>\n",
       "      <td>0.274700</td>\n",
       "      <td>988.000000</td>\n",
       "      <td>786101.000000</td>\n",
       "      <td>8.944068e+09</td>\n",
       "      <td>0.0</td>\n",
       "      <td>0.0</td>\n",
       "    </tr>\n",
       "  </tbody>\n",
       "</table>\n",
       "</div>"
      ],
      "text/plain": [
       "             row_id            x            y     accuracy           time  \\\n",
       "count  3.492000e+03  3492.000000  3492.000000  3492.000000    3492.000000   \n",
       "mean   1.483209e+07     0.039768     0.158347    86.089633  407572.727377   \n",
       "std    8.367223e+06     0.021214     0.071923   104.116552  236103.683380   \n",
       "min    1.490000e+02     0.000000     0.000100     1.000000     410.000000   \n",
       "25%    7.535368e+06     0.022475     0.106200    31.000000  168889.250000   \n",
       "50%    1.515110e+07     0.038450     0.153600    64.000000  441495.000000   \n",
       "75%    2.192826e+07     0.057600     0.218600    83.000000  598082.500000   \n",
       "max    2.911510e+07     0.079900     0.274700   988.000000  786101.000000   \n",
       "\n",
       "           place_id  blockx  blocky  \n",
       "count  3.492000e+03  3492.0  3492.0  \n",
       "mean   6.020416e+09     0.0     0.0  \n",
       "std    2.100485e+09     0.0     0.0  \n",
       "min    1.006317e+09     0.0     0.0  \n",
       "25%    4.336424e+09     0.0     0.0  \n",
       "50%    5.445221e+09     0.0     0.0  \n",
       "75%    8.050783e+09     0.0     0.0  \n",
       "max    8.944068e+09     0.0     0.0  "
      ]
     },
     "execution_count": 19,
     "metadata": {},
     "output_type": "execute_result"
    }
   ],
   "source": [
    "df_train00_top30.describe()"
   ]
  },
  {
   "cell_type": "markdown",
   "metadata": {},
   "source": [
    "#### Next we convert time into its constituents: H (hour of day), D (day of week), M (month of year)\n"
   ]
  },
  {
   "cell_type": "code",
   "execution_count": 28,
   "metadata": {
    "collapsed": true
   },
   "outputs": [],
   "source": [
    "def get_hour(time):\n",
    "    #the same hour of day repeats every 60*24 = 1440 minutes\n",
    "    return int(math.floor((time%1440)/60))\n",
    "def get_day(time):\n",
    "    #the same day of week repeats every 60*24*7 = 10080 minutes\n",
    "    return int(math.floor((time%10080)/1440))\n",
    "def get_month(time):\n",
    "    #the same month of year repeats every 60*24*7*52= 524160 minutes\n",
    "    return int(math.floor((time%524160)/43680)) #  =524160/12\n"
   ]
  },
  {
   "cell_type": "code",
   "execution_count": 23,
   "metadata": {
    "collapsed": false
   },
   "outputs": [
    {
     "data": {
      "text/plain": [
       "23"
      ]
     },
     "execution_count": 23,
     "metadata": {},
     "output_type": "execute_result"
    }
   ],
   "source": [
    "get_hour(1400)"
   ]
  },
  {
   "cell_type": "code",
   "execution_count": 27,
   "metadata": {
    "collapsed": false
   },
   "outputs": [
    {
     "data": {
      "text/plain": [
       "0"
      ]
     },
     "execution_count": 27,
     "metadata": {},
     "output_type": "execute_result"
    }
   ],
   "source": [
    "get_day(10080)"
   ]
  },
  {
   "cell_type": "code",
   "execution_count": 31,
   "metadata": {
    "collapsed": false
   },
   "outputs": [
    {
     "data": {
      "text/plain": [
       "0"
      ]
     },
     "execution_count": 31,
     "metadata": {},
     "output_type": "execute_result"
    }
   ],
   "source": [
    "get_month(524160)"
   ]
  },
  {
   "cell_type": "code",
   "execution_count": 34,
   "metadata": {
    "collapsed": false
   },
   "outputs": [
    {
     "name": "stderr",
     "output_type": "stream",
     "text": [
      "/home/uday/anaconda2/envs/dato-env/lib/python2.7/site-packages/ipykernel/__main__.py:1: SettingWithCopyWarning: \n",
      "A value is trying to be set on a copy of a slice from a DataFrame.\n",
      "Try using .loc[row_indexer,col_indexer] = value instead\n",
      "\n",
      "See the caveats in the documentation: http://pandas.pydata.org/pandas-docs/stable/indexing.html#indexing-view-versus-copy\n",
      "  if __name__ == '__main__':\n",
      "/home/uday/anaconda2/envs/dato-env/lib/python2.7/site-packages/ipykernel/__main__.py:2: SettingWithCopyWarning: \n",
      "A value is trying to be set on a copy of a slice from a DataFrame.\n",
      "Try using .loc[row_indexer,col_indexer] = value instead\n",
      "\n",
      "See the caveats in the documentation: http://pandas.pydata.org/pandas-docs/stable/indexing.html#indexing-view-versus-copy\n",
      "  from ipykernel import kernelapp as app\n",
      "/home/uday/anaconda2/envs/dato-env/lib/python2.7/site-packages/ipykernel/__main__.py:3: SettingWithCopyWarning: \n",
      "A value is trying to be set on a copy of a slice from a DataFrame.\n",
      "Try using .loc[row_indexer,col_indexer] = value instead\n",
      "\n",
      "See the caveats in the documentation: http://pandas.pydata.org/pandas-docs/stable/indexing.html#indexing-view-versus-copy\n",
      "  app.launch_new_instance()\n"
     ]
    }
   ],
   "source": [
    "df_train00_top30['hour'] = map(get_hour,df_train00_top30['time'])\n",
    "df_train00_top30['day'] = map(get_day,df_train00_top30['time'])\n",
    "df_train00_top30['month'] = map(get_month,df_train00_top30['time'])\n"
   ]
  },
  {
   "cell_type": "code",
   "execution_count": 33,
   "metadata": {
    "collapsed": false
   },
   "outputs": [
    {
     "data": {
      "text/plain": [
       "149       8\n",
       "19019     4\n",
       "56296    22\n",
       "63491    14\n",
       "65582     8\n",
       "Name: hour, dtype: int64"
      ]
     },
     "execution_count": 33,
     "metadata": {},
     "output_type": "execute_result"
    }
   ],
   "source": [
    "df_train00_top30['hour'].head()"
   ]
  },
  {
   "cell_type": "code",
   "execution_count": 35,
   "metadata": {
    "collapsed": false
   },
   "outputs": [
    {
     "data": {
      "text/plain": [
       "149      5\n",
       "19019    5\n",
       "56296    3\n",
       "63491    2\n",
       "65582    3\n",
       "Name: day, dtype: int64"
      ]
     },
     "execution_count": 35,
     "metadata": {},
     "output_type": "execute_result"
    }
   ],
   "source": [
    "df_train00_top30['day'].head()"
   ]
  },
  {
   "cell_type": "code",
   "execution_count": 36,
   "metadata": {
    "collapsed": false
   },
   "outputs": [
    {
     "data": {
      "text/plain": [
       "149      0\n",
       "19019    2\n",
       "56296    3\n",
       "63491    8\n",
       "65582    0\n",
       "Name: month, dtype: int64"
      ]
     },
     "execution_count": 36,
     "metadata": {},
     "output_type": "execute_result"
    }
   ],
   "source": [
    "df_train00_top30['month'].head()"
   ]
  },
  {
   "cell_type": "markdown",
   "metadata": {},
   "source": [
    "#### Use 1-hot encoding to convert hour,day,month to 24+7+12 columns"
   ]
  },
  {
   "cell_type": "code",
   "execution_count": null,
   "metadata": {
    "collapsed": true
   },
   "outputs": [],
   "source": [
    "def 1_hot_hour(df):\n",
    "    for i in range(24):\n",
    "        df['hour'+i] = 1 if "
   ]
  },
  {
   "cell_type": "code",
   "execution_count": null,
   "metadata": {
    "collapsed": true
   },
   "outputs": [],
   "source": []
  }
 ],
 "metadata": {
  "kernelspec": {
   "display_name": "Python 2",
   "language": "python",
   "name": "python2"
  },
  "language_info": {
   "codemirror_mode": {
    "name": "ipython",
    "version": 2
   },
   "file_extension": ".py",
   "mimetype": "text/x-python",
   "name": "python",
   "nbconvert_exporter": "python",
   "pygments_lexer": "ipython2",
   "version": "2.7.11"
  }
 },
 "nbformat": 4,
 "nbformat_minor": 0
}
